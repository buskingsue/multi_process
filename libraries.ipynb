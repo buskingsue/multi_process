{
 "cells": [
  {
   "cell_type": "markdown",
   "metadata": {},
   "source": [
    "# Libraries\n",
    "\n",
    "본 실습에서는 다음 두개의 Python 라이브러리들을 사용합니다.\n",
    "\n",
    "1. tqdm: 프로그레스바를 표시해 주는 라이브러리 ([참조링크](https://github.com/tqdm/tqdm))\n",
    "\n",
    "1. pytube: YouTube에서 video 컨텐츠를 다운로드 할 수 있도록 해주는 라이브러리 ([참조링크](https://pytube.io/en/latest/index.html))"
   ]
  },
  {
   "cell_type": "markdown",
   "metadata": {},
   "source": [
    "## tqdm Overview"
   ]
  },
  {
   "cell_type": "code",
   "execution_count": 1,
   "metadata": {},
   "outputs": [],
   "source": [
    "from tqdm import tqdm\n",
    "from time import sleep"
   ]
  },
  {
   "cell_type": "code",
   "execution_count": 2,
   "metadata": {},
   "outputs": [
    {
     "name": "stderr",
     "output_type": "stream",
     "text": [
      "100%|██████████| 100/100 [00:05<00:00, 19.72it/s]\n"
     ]
    }
   ],
   "source": [
    "# 다음 코드는 0.05초 마다 한번 씩 프로그레스 바를 업데이트 합니다.\n",
    "for _ in tqdm(range(100)):\n",
    "    sleep(0.05)"
   ]
  },
  {
   "cell_type": "code",
   "execution_count": 3,
   "metadata": {},
   "outputs": [
    {
     "name": "stderr",
     "output_type": "stream",
     "text": [
      "100%|██████████| 100/100 [00:01<00:00, 98.31it/s]\n"
     ]
    }
   ],
   "source": [
    "# tqdm을 객체로 선언하고 update()를 호출해서 프로그레스를 업데이트 할 수도 있습니다.\n",
    "pbar = tqdm(total=100)\n",
    "\n",
    "for _ in range(10):\n",
    "    sleep(0.1)\n",
    "    pbar.update(10)\n",
    "pbar.close()\n"
   ]
  },
  {
   "cell_type": "code",
   "execution_count": 4,
   "metadata": {},
   "outputs": [
    {
     "name": "stderr",
     "output_type": "stream",
     "text": [
      "100%|██████████| 100/100 [00:01<00:00, 98.34it/s]\n"
     ]
    }
   ],
   "source": [
    "# 혹은, with keyword를 사용해서 close() 호출을 없앨 수도 있습니다.\n",
    "with tqdm(total=100) as pbar:\n",
    "    for _ in range(10):\n",
    "        sleep(0.1)\n",
    "        pbar.update(10)"
   ]
  },
  {
   "cell_type": "markdown",
   "metadata": {},
   "source": [
    "## pytube overview\n",
    "시간이 오래 걸리는 일을 모사하기 위해 pytube로 YouTube video를 다운로드 하는 경우를 가정했습니다.\n"
   ]
  },
  {
   "cell_type": "code",
   "execution_count": 5,
   "metadata": {},
   "outputs": [],
   "source": [
    "from pytubefix import YouTube\n",
    "from IPython.display import Image\n",
    "import requests\n",
    "\n",
    "headers = {\n",
    "    'User-Agent': 'Mozilla/5.0 (Windows NT 10.0; Win64; x64) AppleWebKit/537.36 (KHTML, like Gecko) Chrome/91.0.4472.124 Safari/537.36'\n",
    "}\n",
    "\n",
    "video_url = \"https://www.youtube.com/watch?v=hLvWy2b857I\"\n",
    "response = requests.get(video_url, headers=headers)\n",
    "youtube_clip = YouTube(video_url, proxies=None, on_progress_callback=None)"
   ]
  },
  {
   "cell_type": "code",
   "execution_count": 6,
   "metadata": {},
   "outputs": [],
   "source": [
    "# YouTube clip links\n",
    "\n",
    "# LOL 2023 Anthem\n",
    "lol2023 = \"https://www.youtube.com/watch?v=C3GouGa0noM\"\n",
    "\n",
    "# 르세라핌 x Overwatch2\n",
    "perfect_night = \"https://www.youtube.com/watch?v=hLvWy2b857I\"\n",
    "\n",
    "# 8마일 랩배틀 에미넴모음 (연령제한?)\n",
    "eight_miles = \"https://www.youtube.com/watch?v=tWFejQSKIYg\""
   ]
  },
  {
   "cell_type": "code",
   "execution_count": 15,
   "metadata": {},
   "outputs": [],
   "source": [
    "url = perfect_night\n",
    "youtube_clip = YouTube(url) # 유튜브 객체 생성"
   ]
  },
  {
   "cell_type": "code",
   "execution_count": 7,
   "metadata": {},
   "outputs": [
    {
     "name": "stdout",
     "output_type": "stream",
     "text": [
      "f{youtube_clip.description}\n",
      "연령제한:\t없음\n"
     ]
    },
    {
     "data": {
      "text/html": [
       "<img src=\"https://i.ytimg.com/vi/hLvWy2b857I/sddefault.jpg?v=653b3728\" width=\"500\"/>"
      ],
      "text/plain": [
       "<IPython.core.display.Image object>"
      ]
     },
     "metadata": {},
     "output_type": "display_data"
    }
   ],
   "source": [
    "# Video clip에 대한 더 많은 정보는 다음의 링크를 참조 하세요.\n",
    "# https://pytube.io/en/latest/api.html?highlight=author#youtube-object\n",
    "#print(f\"제목:\\t{youtube_clip.title}\")\n",
    "print(f\"설명:\\t\" \"<없음>\" if youtube_clip.description is None else \"f{youtube_clip.description}\")\n",
    "#print(f\"길이:\\t약 {youtube_clip.length//60}분\")\n",
    "print(f\"연령제한:\\t\" \"없음\" if youtube_clip.age_restricted is False else \"<제한됨>\")\n",
    "\n",
    "# 썸네일\n",
    "thumbnailUrl = youtube_clip.thumbnail_url\n",
    "#print(f\"{thumbnailUrl}\")\n",
    "thumbnailImg = Image(url=thumbnailUrl, width=500)\n",
    "display(thumbnailImg)\n",
    "\n",
    "# 유튜브 객체 youtube_clip의 정보들을 확인 가능 (위에는 간단한것들이 더 많은 정보들을 볼수있다.)"
   ]
  },
  {
   "cell_type": "code",
   "execution_count": 8,
   "metadata": {},
   "outputs": [
    {
     "name": "stdout",
     "output_type": "stream",
     "text": [
      "[1]: <Stream: itag=\"18\" mime_type=\"video/mp4\" res=\"360p\" fps=\"24fps\" vcodec=\"avc1.42001E\" acodec=\"mp4a.40.2\" progressive=\"True\" type=\"video\">\n",
      "[1]: <Stream: itag=\"313\" mime_type=\"video/webm\" res=\"2160p\" fps=\"24fps\" vcodec=\"vp9\" progressive=\"False\" type=\"video\">\n",
      "[1]: <Stream: itag=\"401\" mime_type=\"video/mp4\" res=\"2160p\" fps=\"24fps\" vcodec=\"av01.0.12M.08\" progressive=\"False\" type=\"video\">\n",
      "[1]: <Stream: itag=\"271\" mime_type=\"video/webm\" res=\"1440p\" fps=\"24fps\" vcodec=\"vp9\" progressive=\"False\" type=\"video\">\n",
      "[1]: <Stream: itag=\"400\" mime_type=\"video/mp4\" res=\"1440p\" fps=\"24fps\" vcodec=\"av01.0.12M.08\" progressive=\"False\" type=\"video\">\n",
      "[1]: <Stream: itag=\"137\" mime_type=\"video/mp4\" res=\"1080p\" fps=\"24fps\" vcodec=\"avc1.640028\" progressive=\"False\" type=\"video\">\n",
      "[1]: <Stream: itag=\"248\" mime_type=\"video/webm\" res=\"1080p\" fps=\"24fps\" vcodec=\"vp9\" progressive=\"False\" type=\"video\">\n",
      "[1]: <Stream: itag=\"399\" mime_type=\"video/mp4\" res=\"1080p\" fps=\"24fps\" vcodec=\"av01.0.08M.08\" progressive=\"False\" type=\"video\">\n",
      "[1]: <Stream: itag=\"136\" mime_type=\"video/mp4\" res=\"720p\" fps=\"24fps\" vcodec=\"avc1.4d401f\" progressive=\"False\" type=\"video\">\n",
      "[1]: <Stream: itag=\"247\" mime_type=\"video/webm\" res=\"720p\" fps=\"24fps\" vcodec=\"vp9\" progressive=\"False\" type=\"video\">\n",
      "[1]: <Stream: itag=\"398\" mime_type=\"video/mp4\" res=\"720p\" fps=\"24fps\" vcodec=\"av01.0.05M.08\" progressive=\"False\" type=\"video\">\n",
      "[1]: <Stream: itag=\"135\" mime_type=\"video/mp4\" res=\"480p\" fps=\"24fps\" vcodec=\"avc1.4d401e\" progressive=\"False\" type=\"video\">\n",
      "[1]: <Stream: itag=\"244\" mime_type=\"video/webm\" res=\"480p\" fps=\"24fps\" vcodec=\"vp9\" progressive=\"False\" type=\"video\">\n",
      "[1]: <Stream: itag=\"397\" mime_type=\"video/mp4\" res=\"480p\" fps=\"24fps\" vcodec=\"av01.0.04M.08\" progressive=\"False\" type=\"video\">\n",
      "[1]: <Stream: itag=\"134\" mime_type=\"video/mp4\" res=\"360p\" fps=\"24fps\" vcodec=\"avc1.4d401e\" progressive=\"False\" type=\"video\">\n",
      "[1]: <Stream: itag=\"243\" mime_type=\"video/webm\" res=\"360p\" fps=\"24fps\" vcodec=\"vp9\" progressive=\"False\" type=\"video\">\n",
      "[1]: <Stream: itag=\"396\" mime_type=\"video/mp4\" res=\"360p\" fps=\"24fps\" vcodec=\"av01.0.01M.08\" progressive=\"False\" type=\"video\">\n",
      "[1]: <Stream: itag=\"133\" mime_type=\"video/mp4\" res=\"240p\" fps=\"24fps\" vcodec=\"avc1.4d4015\" progressive=\"False\" type=\"video\">\n",
      "[1]: <Stream: itag=\"242\" mime_type=\"video/webm\" res=\"240p\" fps=\"24fps\" vcodec=\"vp9\" progressive=\"False\" type=\"video\">\n",
      "[1]: <Stream: itag=\"395\" mime_type=\"video/mp4\" res=\"240p\" fps=\"24fps\" vcodec=\"av01.0.00M.08\" progressive=\"False\" type=\"video\">\n",
      "[1]: <Stream: itag=\"160\" mime_type=\"video/mp4\" res=\"144p\" fps=\"24fps\" vcodec=\"avc1.4d400c\" progressive=\"False\" type=\"video\">\n",
      "[1]: <Stream: itag=\"278\" mime_type=\"video/webm\" res=\"144p\" fps=\"24fps\" vcodec=\"vp9\" progressive=\"False\" type=\"video\">\n",
      "[1]: <Stream: itag=\"394\" mime_type=\"video/mp4\" res=\"144p\" fps=\"24fps\" vcodec=\"av01.0.00M.08\" progressive=\"False\" type=\"video\">\n",
      "[1]: <Stream: itag=\"139\" mime_type=\"audio/mp4\" abr=\"48kbps\" acodec=\"mp4a.40.5\" progressive=\"False\" type=\"audio\">\n",
      "[1]: <Stream: itag=\"140\" mime_type=\"audio/mp4\" abr=\"128kbps\" acodec=\"mp4a.40.2\" progressive=\"False\" type=\"audio\">\n",
      "[1]: <Stream: itag=\"249\" mime_type=\"audio/webm\" abr=\"50kbps\" acodec=\"opus\" progressive=\"False\" type=\"audio\">\n",
      "[1]: <Stream: itag=\"250\" mime_type=\"audio/webm\" abr=\"70kbps\" acodec=\"opus\" progressive=\"False\" type=\"audio\">\n",
      "[1]: <Stream: itag=\"251\" mime_type=\"audio/webm\" abr=\"160kbps\" acodec=\"opus\" progressive=\"False\" type=\"audio\">\n"
     ]
    }
   ],
   "source": [
    "# Streams\n",
    "for i, item in enumerate(youtube_clip.streams): # streams의 목록들을 인덱스와 item로 반환\n",
    "    print(f\"[1]: {item}\")   # [1] {i}"
   ]
  },
  {
   "cell_type": "code",
   "execution_count": 9,
   "metadata": {},
   "outputs": [
    {
     "data": {
      "text/plain": [
       "\"/home/kds/DX-01/class02/python-parallelism/videos/LE SSERAFIM (르세라핌) 'Perfect Night' OFFICIAL MV with OVERWATCH 2.mp4\""
      ]
     },
     "execution_count": 9,
     "metadata": {},
     "output_type": "execute_result"
    }
   ],
   "source": [
    "# 특정한 비디오 스트림을 지정해서 다운로드를 수행합니다. 필터링하는 다양한 방법들은 아래의 링크를 참조하세요.\n",
    "# https://pytube.io/en/latest/api.html?highlight=highest%20resolution#streamquery-object\n",
    "\n",
    "download_dir = \"videos\"\n",
    "\n",
    "# E.g. download a highest resolution video.\n",
    "youtube_clip.streams.get_highest_resolution().download(download_dir)"
   ]
  },
  {
   "cell_type": "code",
   "execution_count": 10,
   "metadata": {},
   "outputs": [],
   "source": [
    "# Filter를 이용한 stream 선택\n",
    "#\n",
    "# E.g. download the first in progressive mp4 file.\n",
    "# youtube_clip.streams.filter(progressive=True, file_extension='mp4').first().download(download_dir)\n",
    "#\n",
    "# PyTube 연습문제\n",
    "# perfect_night stream들 중\n",
    "# <Stream: itag=\"140\" mime_type=\"audio/mp4\" abr=\"128kbps\" acodec=\"mp4a.40.2\" progressive=\"False\" type=\"audio\">를 \n",
    "# 두 가지 이상의 방법으로 \"audio\" 디렉토리에 다운로드 받아 보자.\n",
    "#   Hint 1. get_by_itag()\n",
    "#   Hint 2. filter()"
   ]
  },
  {
   "cell_type": "markdown",
   "metadata": {},
   "source": [
    "### Callbacks\n",
    "\n",
    "다운로드의 진행과 완료때 호출 될 callback을 지정할 수 있습니다. 다음과 같이 생성자에서 on_progress_callback 혹은 on_complete_callback에 callback 함수를 연결해 주면 됩니다.\n",
    "\n",
    "```\n",
    "class YouTube:\n",
    "    \"\"\"Core developer interface for pytube.\"\"\"\n",
    "\n",
    "    def __init__(\n",
    "        self,\n",
    "        url: str,\n",
    "        on_progress_callback: Optional[Callable[[Any, bytes, int], None]] = None,\n",
    "        on_complete_callback: Optional[Callable[[Any, Optional[str]], None]] = None,\n",
    "        proxies: Dict[str, str] = None,\n",
    "        use_oauth: bool = False,\n",
    "        allow_oauth_cache: bool = True\n",
    "    ):\n",
    "```"
   ]
  },
  {
   "cell_type": "code",
   "execution_count": 11,
   "metadata": {},
   "outputs": [
    {
     "name": "stdout",
     "output_type": "stream",
     "text": [
      "Progress: about 23 MB remaining\n",
      "Progress: about 14 MB remaining\n",
      "Progress: about 5 MB remaining\n",
      "Progress: about 0 MB remaining\n",
      "Downloaded!\n"
     ]
    },
    {
     "data": {
      "text/plain": [
       "'/home/kds/DX-01/class02/python-parallelism/videos/한국에서 망했다가 떡상한 발로란트, 아직도 갓겜일까? [발로란트].mp4'"
      ]
     },
     "execution_count": 11,
     "metadata": {},
     "output_type": "execute_result"
    }
   ],
   "source": [
    "# 한국에서 망했다가 떡상한 발로란트, 아직도 갓겜일까?\n",
    "video_url = \"https://www.youtube.com/watch?v=nXC3Gaot1lQ\"\n",
    "\n",
    "# Progress callback\n",
    "def on_progress(stream, chunk, bytes_remaining):\n",
    "    print(f\"Progress: about {bytes_remaining // (1024*1024)} MB remaining\")\n",
    "\n",
    "# Completion callback\n",
    "def on_complete(stream, file_handle):\n",
    "    print(\"Downloaded!\")\n",
    "\n",
    "youtube_clip = YouTube(video_url,\n",
    "                       on_progress_callback=on_progress,\n",
    "                       on_complete_callback=on_complete)\n",
    "\n",
    "youtube_clip.streams.get_highest_resolution().download(\"videos\")"
   ]
  }
 ],
 "metadata": {
  "kernelspec": {
   "display_name": ".venv",
   "language": "python",
   "name": "python3"
  },
  "language_info": {
   "codemirror_mode": {
    "name": "ipython",
    "version": 3
   },
   "file_extension": ".py",
   "mimetype": "text/x-python",
   "name": "python",
   "nbconvert_exporter": "python",
   "pygments_lexer": "ipython3",
   "version": "3.10.12"
  },
  "orig_nbformat": 4
 },
 "nbformat": 4,
 "nbformat_minor": 2
}

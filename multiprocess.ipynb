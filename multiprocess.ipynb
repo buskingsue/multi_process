{
 "cells": [
  {
   "cell_type": "markdown",
   "metadata": {},
   "source": [
    "# Multiprocessing\n",
    "\n",
    "Reference: https://docs.python.org/3/library/multiprocessing.html#multiprocessing-programming"
   ]
  },
  {
   "cell_type": "code",
   "execution_count": null,
   "metadata": {},
   "outputs": [],
   "source": [
    "import multiprocessing\n",
    "from tqdm import tqdm\n",
    "from functools import partial\n",
    "import os\n",
    "import sys\n",
    "from pytube import YouTube\n",
    "import psutil\n",
    "import time\n",
    "import subprocess"
   ]
  },
  {
   "cell_type": "code",
   "execution_count": 26,
   "metadata": {},
   "outputs": [
    {
     "name": "stdout",
     "output_type": "stream",
     "text": [
      "Collecting pytubefix\n",
      "  Using cached pytubefix-8.12.2-py3-none-any.whl.metadata (5.3 kB)\n",
      "Using cached pytubefix-8.12.2-py3-none-any.whl (730 kB)\n",
      "Installing collected packages: pytubefix\n",
      "Successfully installed pytubefix-8.12.2\n"
     ]
    }
   ],
   "source": [
    "!pip install pytubefix\n",
    "\n",
    "from pytubefix import YouTube\n"
   ]
  },
  {
   "cell_type": "markdown",
   "metadata": {},
   "source": [
    "### Parallelism Concept"
   ]
  },
  {
   "cell_type": "code",
   "execution_count": 27,
   "metadata": {},
   "outputs": [],
   "source": [
    "def say_numbers():\n",
    "    # Count 1~5\n",
    "    for i in range(1,6,1):\n",
    "        print(f\"Number: #{i}\")\n",
    "        #sys.stdout.write(f\"Number: #{i}\\n\")\n",
    "        #sys.stdout.flush()\n",
    "        time.sleep(0.1)\n",
    "\n",
    "def say_alphabet():\n",
    "    # Count a~e\n",
    "    for i in range(ord(\"a\"), ord(\"f\")):\n",
    "        print(f\"Alphabet: {chr(i)}\")\n",
    "        #sys.stdout.write(f\"Alphabet: {chr(i)}\\n\")\n",
    "        #sys.stdout.flush()\n",
    "        time.sleep(0.1)"
   ]
  },
  {
   "cell_type": "code",
   "execution_count": 28,
   "metadata": {},
   "outputs": [
    {
     "name": "stdout",
     "output_type": "stream",
     "text": [
      "----------Sequential execution----------\n",
      "Number: #1\n",
      "Number: #2\n",
      "Number: #3\n",
      "Number: #4\n",
      "Number: #5\n",
      "Alphabet: a\n",
      "Alphabet: b\n",
      "Alphabet: c\n",
      "Alphabet: d\n",
      "Alphabet: e\n",
      "execution time : 1.0028891563415527\n"
     ]
    }
   ],
   "source": [
    "print(\"-\"*10+\"Sequential execution\"+\"-\"*10)\n",
    "seq = time.time()\n",
    "say_numbers()\n",
    "say_alphabet()\n",
    "print(\"execution time :\", time.time() - seq)"
   ]
  },
  {
   "cell_type": "code",
   "execution_count": 29,
   "metadata": {},
   "outputs": [
    {
     "name": "stdout",
     "output_type": "stream",
     "text": [
      "----------Parallel execution----------\n",
      "Number: #1\n",
      "Alphabet: a\n",
      "Number: #2\n",
      "Alphabet: b\n",
      "Number: #3Alphabet: c\n",
      "\n",
      "Number: #4Alphabet: d\n",
      "\n",
      "Alphabet: eNumber: #5\n",
      "\n",
      "execution time : 0.531724214553833\n"
     ]
    }
   ],
   "source": [
    "print(\"-\"*10+\"Parallel execution\"+\"-\"*10)\n",
    "par = time.time()   # 러닝타임 체크 시작\n",
    "p1 = multiprocessing.Process(target=say_numbers)\n",
    "p2 = multiprocessing.Process(target=say_alphabet)\n",
    "p1.start()\n",
    "p2.start()\n",
    "\n",
    "# join으로 대기하지 않으면 부모 process가 종료되어 자식이 zombie가 된다.\n",
    "p1.join()\n",
    "p2.join()\n",
    "\n",
    "print(\"execution time :\", time.time() - par)    # 러닝타임 체크 끝"
   ]
  },
  {
   "cell_type": "markdown",
   "metadata": {},
   "source": [
    "### Process control methods\n",
    "\n",
    "- **start()**: Sub process를 실행시킵니다.\n",
    "- **terminate()**: Process에게 SIGTERM을 보냅니다.\n",
    "- **join()**: Process가 종료될 때까지 기다립니다.\n",
    "- join([_timeout_]): 지정된 시간(초 단위)까지 기다립니다."
   ]
  },
  {
   "cell_type": "code",
   "execution_count": 30,
   "metadata": {},
   "outputs": [
    {
     "name": "stdout",
     "output_type": "stream",
     "text": [
      "Process child process\n",
      "Child process counting started\n",
      "Number: #0\n",
      "Number: #1\n"
     ]
    }
   ],
   "source": [
    "# terminate() example\n",
    "# 아래의 코드는 좀비 프로세스를 생성시킵니다.\n",
    "# `watch -n1 \"ps aux|grep defunct\"` 명령어로 관찰 할 수 있습니다.\n",
    "\n",
    "def child_process_func():\n",
    "    print(\"Child process counting started\")\n",
    "    # Count 1~5\n",
    "    for i in range(10):\n",
    "        print(f\"Number: #{i}\")\n",
    "        time.sleep(0.5)\n",
    "    # print on normal termination only.\n",
    "    print(\"Normal termination\")\n",
    "\n",
    "\n",
    "p1 = multiprocessing.Process(target=child_process_func)\n",
    "print(\"Process child process\")\n",
    "p1.start()\n",
    "time.sleep(1)\n",
    "\n",
    "# Force kill process\n",
    "p1.terminate()"
   ]
  },
  {
   "cell_type": "code",
   "execution_count": 31,
   "metadata": {},
   "outputs": [
    {
     "name": "stdout",
     "output_type": "stream",
     "text": [
      "Process starting...\n",
      "Number: #1\n",
      "Number: #2\n",
      "Waiting for process to be terminated...\n",
      "Number: #3\n",
      "Number: #4\n",
      "Number: #5\n",
      "Process terminating...\n"
     ]
    }
   ],
   "source": [
    "# join()을 이용해서 좀비 프로세스가 발생하는 것을 방지 할 수 있습니다.\n",
    "\n",
    "def say_numbers():\n",
    "    # Count 1~5\n",
    "    for i in range(1,6,1):\n",
    "        print(f\"Number: #{i}\")\n",
    "        time.sleep(0.1)\n",
    "    print(\"Process terminating...\", flush=True)\n",
    "\n",
    "p1 = multiprocessing.Process(target=say_numbers)\n",
    "print(\"Process starting...\")\n",
    "p1.start()\n",
    "\n",
    "# Wait until process terminates\n",
    "print(\"Waiting for process to be terminated...\")\n",
    "p1.join()"
   ]
  },
  {
   "cell_type": "markdown",
   "metadata": {},
   "source": [
    "### IPC practice: Popen"
   ]
  },
  {
   "cell_type": "code",
   "execution_count": 32,
   "metadata": {},
   "outputs": [
    {
     "name": "stdout",
     "output_type": "stream",
     "text": [
      "Current process ID:30244\n",
      "Subprocess PID: 33437, PPID: 30244\n",
      "합계 6992\n",
      "drwxrwxr-x  2 kds kds       4096  2월 26 15:16 ANN_test\n",
      "drwxrwxr-x  4 kds kds       4096  3월 17 10:40 Arduino\n",
      "drwxrwxr-x  8 kds kds       4096  3월 17 09:29 DX-01\n",
      "drwxr-xr-x  2 kds kds       4096  3월  6 15:21 Desktop\n",
      "drwxr-xr-x  3 kds kds       4096  2월 20 17:15 Documents\n",
      "drwxr-xr-x  4 kds kds       4096  3월 17 11:34 Downloads\n",
      "drwxr-xr-x  2 kds kds       4096  2월 20 15:47 Music\n",
      "drwxr-xr-x  4 kds kds       4096  3월  4 08:57 Pictures\n",
      "drwxr-xr-x  2 kds kds       4096  2월 20 15:47 Public\n",
      "drwxrwxr-x  7 kds kds       4096  3월  8 15:51 Soccer_MBTI_Chatbot_RAG\n",
      "drwxr-xr-x  2 kds kds       4096  2월 20 15:47 Templates\n",
      "drwxr-xr-x  2 kds kds       4096  2월 20 15:47 Videos\n",
      "-rwxrwxr-x  1 kds kds      15960  2월 20 16:31 a.out\n",
      "drwxr-xr-x  4 kds kds       4096  8월 26  2022 coco128\n",
      "-rw-rw-r--  1 kds kds    6983030  7월 10  2024 coco128.zip\n",
      "-rw-rw-r--  1 kds docker     413  2월 25 15:52 dockerfile\n",
      "drwxrwxr-x  4 kds kds       4096  2월 21 09:41 git-traing\n",
      "drwxrwxr-x  5 kds kds       4096  3월 14 09:32 hand\n",
      "drwxrwxr-x  7 kds kds       4096  3월  6 09:33 hw5\n",
      "-rw-rw-r--  1 kds kds        293  2월 26 11:38 image_chase\n",
      "drwxrwxr-x  3 kds kds       4096  2월 21 09:49 intel\n",
      "-rw-rw-r--  1 kds kds       4089  3월  4 12:18 intel에서 제공하는 ai 모델 정리\n",
      "-rw-rw-r--  1 kds kds         22  3월 11 11:54 jupyter\n",
      "-rw-rw-r--  1 kds kds        134  3월  4 11:51 llm problem\n",
      "drwxrwxr-x  7 kds kds       4096  2월 21 10:16 my-project.git\n",
      "drwxrwxr-x  3 kds kds       4096  2월 26 15:09 my_project\n",
      "drwxrwxr-x 13 kds kds       4096  3월 12 14:53 openvino\n",
      "-rw-rw-r--  1 kds kds       8359  3월  4 12:09 openvino에서 제공하는 모델정리\n",
      "-rw-rw-r--  1 kds kds         71  2월 20 16:31 print.c\n",
      "drwxrwxr-x  3 kds kds       4096  2월 21 12:11 project-x\n",
      "drwxrwxr-x  3 kds kds       4096  2월 21 11:36 project-y\n",
      "drwxrwxr-x  6 kds kds       4096  3월 12 15:35 rock-scissors-paper-game\n",
      "drwx------  7 kds kds       4096  2월 28 12:18 snap\n",
      "drwxrwxr-x 11 kds kds       4096  3월 14 11:06 yolo_opencv\n",
      "-rw-rw-r--  1 kds kds         15  3월 12 16:08 가위_바위_보\n",
      "-rw-rw-r--  1 kds kds        330  3월 14 16:58 미니 프로젝트\n",
      "-rw-rw-r--  1 kds kds       3680  3월 11 15:58 사용자 요구 사항\n",
      "-rw-rw-r--  1 kds kds         29  3월 12 16:01 이름 없는 문서 1\n",
      "-rw-rw-r--  1 kds kds         76  3월 17 12:44 커널 설치 명령어\n",
      "\n"
     ]
    }
   ],
   "source": [
    "print(\"Current process ID:{}\".format(os.getpid()), flush=True)\n",
    "\n",
    "ps_process = subprocess.Popen(['bash', 'subprocess.sh'], stdout=subprocess.PIPE, stderr=subprocess.PIPE)\n",
    "stdout, stderr = ps_process.communicate()\n",
    "\n",
    "print(stdout.decode())"
   ]
  },
  {
   "cell_type": "markdown",
   "metadata": {},
   "source": [
    "### `pytube` `tqdm` example\n",
    "\n",
    "- UI와 다운로드가 message_queue로 통신"
   ]
  },
  {
   "cell_type": "markdown",
   "metadata": {},
   "source": [
    "- UI Process"
   ]
  },
  {
   "cell_type": "code",
   "execution_count": 33,
   "metadata": {},
   "outputs": [],
   "source": [
    "# UI 프로세스\n",
    "def draw_ui(message_queue):\n",
    "    print(\n",
    "        \"UI process starting ... PID:{}, PPID:{}\"\n",
    "        .format(\n",
    "            os.getpid(),\n",
    "            psutil.Process(os.getpid()).ppid()), flush=True)\n",
    "    prev = 0\n",
    "    tqdm_bar = None\n",
    "    while True:\n",
    "        message = message_queue.get()\n",
    "        if message[\"type\"] == \"on_progress\":\n",
    "            if tqdm_bar is None:\n",
    "                tqdm_bar = tqdm(total=100, desc=\"Downloading...\")\n",
    "            cur_rate = message[\"progress_rate\"]\n",
    "            tqdm_bar.update(int(cur_rate-prev))\n",
    "            prev = int(cur_rate)\n",
    "        elif message[\"type\"] == \"on_complete\":\n",
    "            if tqdm_bar is None:\n",
    "                tqdm_bar = tqdm(total=100, desc=\"Downloading...\")\n",
    "            tqdm_bar.update(100-prev)\n",
    "            tqdm_bar.close()\n",
    "            print(\"Completed!\")\n",
    "            break"
   ]
  },
  {
   "cell_type": "markdown",
   "metadata": {},
   "source": [
    "- Download Process"
   ]
  },
  {
   "cell_type": "code",
   "execution_count": 34,
   "metadata": {},
   "outputs": [],
   "source": [
    "# 다운로드 프로세스\n",
    "def on_progress(stream, chunk, bytes_remaining, message_queue):\n",
    "    total_size = stream.filesize\n",
    "    bytes_downloaded = total_size - bytes_remaining\n",
    "    progress = (bytes_downloaded / total_size) * 100\n",
    "    message_queue.put({\"type\":\"on_progress\", \"progress_rate\":progress})\n",
    "\n",
    "def on_complete(stream, file_handle, message_queue):\n",
    "    message_queue.put({\"type\":\"on_complete\"})\n",
    "\n",
    "def download(url, message_queue):\n",
    "    print(\n",
    "        \"Download process starting ... PID:{}, PPID:{}\"\n",
    "        .format(\n",
    "            os.getpid(),\n",
    "            psutil.Process(os.getpid()).ppid()), flush=True)\n",
    "    on_progress_with_MQ = partial(on_progress, message_queue=message_queue)\n",
    "    on_complete_with_MQ = partial(on_complete, message_queue=message_queue)\n",
    "    youtube_clip = YouTube(\n",
    "                        url,\n",
    "                        on_progress_callback=on_progress_with_MQ,\n",
    "                        on_complete_callback=on_complete_with_MQ)\n",
    "    youtube_stream = youtube_clip.streams.get_highest_resolution()\n",
    "    youtube_stream.download(\"videos\")"
   ]
  },
  {
   "cell_type": "markdown",
   "metadata": {},
   "source": [
    "- Multiprocessing"
   ]
  },
  {
   "cell_type": "code",
   "execution_count": 35,
   "metadata": {},
   "outputs": [
    {
     "name": "stdout",
     "output_type": "stream",
     "text": [
      "main process running ... PID:30244\n",
      "UI process starting ... PID:33577, PPID:30244\n",
      "Download process starting ... PID:33580, PPID:30244\n"
     ]
    },
    {
     "name": "stderr",
     "output_type": "stream",
     "text": [
      "Downloading...: 100%|██████████| 100/100 [00:12<00:00,  8.13it/s]\n"
     ]
    },
    {
     "name": "stdout",
     "output_type": "stream",
     "text": [
      "Completed!\n"
     ]
    }
   ],
   "source": [
    "# 미국은 어떻게 강대국이 되었나\n",
    "url = \"https://www.youtube.com/watch?v=S0NsxGrMg3Q\"\n",
    "\n",
    "print(\"main process running ... PID:{}\".format(os.getpid()), flush=True)\n",
    "\n",
    "message_queue = multiprocessing.Queue()\n",
    "\n",
    "p1 = multiprocessing.Process(target=draw_ui, args=(message_queue,))\n",
    "p2 = multiprocessing.Process(target=download, args=(url, message_queue,))\n",
    "\n",
    "p1.start()\n",
    "p2.start()\n",
    "\n",
    "p1.join()\n",
    "p2.join()"
   ]
  },
  {
   "cell_type": "code",
   "execution_count": null,
   "metadata": {},
   "outputs": [
    {
     "name": "stdout",
     "output_type": "stream",
     "text": [
      "main process running ... PID:30244\n",
      "UI Update: Downloading: 미친듯한 운과 실력 미국은 어떻게 최강대국이 되었나\n",
      "UI Update: Download Complete: 미친듯한 운과 실력 미국은 어떻게 최강대국이 되었나\n"
     ]
    }
   ],
   "source": [
    "import multiprocessing\n",
    "import os\n",
    "from pytubefix import YouTube\n",
    "\n",
    "# UI를 그리는 함수\n",
    "def draw_ui(message_queue):\n",
    "    while True:\n",
    "        message = message_queue.get()  # 큐에서 메시지를 가져옴\n",
    "        if message == 'exit':  # 종료 신호\n",
    "            break\n",
    "        print(f\"UI Update: {message}\")\n",
    "\n",
    "# 다운로드 함수\n",
    "def download(url, message_queue):\n",
    "    try:\n",
    "        yt = YouTube(url)\n",
    "        stream = yt.streams.get_highest_resolution()\n",
    "        message_queue.put(f\"Downloading: {yt.title}\")\n",
    "        stream.download()\n",
    "        message_queue.put(f\"Download Complete: {yt.title}\")\n",
    "    except Exception as e:\n",
    "        message_queue.put(f\"Error: {str(e)}\")\n",
    "\n",
    "# 메인 실행\n",
    "if __name__ == '__main__':\n",
    "    url = \"https://www.youtube.com/watch?v=S0NsxGrMg3Q\"\n",
    "\n",
    "    print(\"main process running ... PID:{}\".format(os.getpid()), flush=True)\n",
    "\n",
    "    message_queue = multiprocessing.Queue()\n",
    "\n",
    "    p1 = multiprocessing.Process(target=draw_ui, args=(message_queue,))\n",
    "    p2 = multiprocessing.Process(target=download, args=(url, message_queue,))\n",
    "\n",
    "    p1.start()\n",
    "    p2.start()\n",
    "\n",
    "    p1.join()\n",
    "    p2.join()\n"
   ]
  }
 ],
 "metadata": {
  "kernelspec": {
   "display_name": ".venv",
   "language": "python",
   "name": "python3"
  },
  "language_info": {
   "codemirror_mode": {
    "name": "ipython",
    "version": 3
   },
   "file_extension": ".py",
   "mimetype": "text/x-python",
   "name": "python",
   "nbconvert_exporter": "python",
   "pygments_lexer": "ipython3",
   "version": "3.10.12"
  }
 },
 "nbformat": 4,
 "nbformat_minor": 2
}
